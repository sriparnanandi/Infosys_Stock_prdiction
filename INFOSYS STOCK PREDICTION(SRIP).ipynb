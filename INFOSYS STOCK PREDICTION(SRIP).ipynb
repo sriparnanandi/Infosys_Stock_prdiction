{
 "cells": [
  {
   "cell_type": "markdown",
   "metadata": {},
   "source": [
    "# INFOSYS STOCK PREDICTION\n",
    "\n",
    "### Done by Sweta Jha(170710007057)      "
   ]
  },
  {
   "cell_type": "code",
   "execution_count": 1,
   "metadata": {},
   "outputs": [],
   "source": [
    "#importing required libraries\n",
    "import numpy as np\n",
    "import matplotlib.pyplot as plt\n",
    "import pandas as pd\n",
    "from sklearn.preprocessing import MinMaxScaler"
   ]
  },
  {
   "cell_type": "markdown",
   "metadata": {},
   "source": [
    "# Visualising"
   ]
  },
  {
   "cell_type": "code",
   "execution_count": 2,
   "metadata": {},
   "outputs": [
    {
     "name": "stdout",
     "output_type": "stream",
     "text": [
      "From Top\n",
      "\n"
     ]
    },
    {
     "data": {
      "text/html": [
       "<div>\n",
       "<style scoped>\n",
       "    .dataframe tbody tr th:only-of-type {\n",
       "        vertical-align: middle;\n",
       "    }\n",
       "\n",
       "    .dataframe tbody tr th {\n",
       "        vertical-align: top;\n",
       "    }\n",
       "\n",
       "    .dataframe thead th {\n",
       "        text-align: right;\n",
       "    }\n",
       "</style>\n",
       "<table border=\"1\" class=\"dataframe\">\n",
       "  <thead>\n",
       "    <tr style=\"text-align: right;\">\n",
       "      <th></th>\n",
       "      <th>Date</th>\n",
       "      <th>Symbol</th>\n",
       "      <th>Series</th>\n",
       "      <th>Prev Close</th>\n",
       "      <th>Open</th>\n",
       "      <th>High</th>\n",
       "      <th>Low</th>\n",
       "      <th>Last</th>\n",
       "      <th>Close</th>\n",
       "      <th>VWAP</th>\n",
       "      <th>Volume</th>\n",
       "      <th>Turnover</th>\n",
       "      <th>Trades</th>\n",
       "      <th>Deliverable Volume</th>\n",
       "      <th>%Deliverble</th>\n",
       "    </tr>\n",
       "  </thead>\n",
       "  <tbody>\n",
       "    <tr>\n",
       "      <th>0</th>\n",
       "      <td>2000-01-03</td>\n",
       "      <td>INFOSYSTCH</td>\n",
       "      <td>EQ</td>\n",
       "      <td>14467.75</td>\n",
       "      <td>15625.00</td>\n",
       "      <td>15625.20</td>\n",
       "      <td>15625.00</td>\n",
       "      <td>15625.20</td>\n",
       "      <td>15625.20</td>\n",
       "      <td>15625.18</td>\n",
       "      <td>5137</td>\n",
       "      <td>8.026657e+12</td>\n",
       "      <td>NaN</td>\n",
       "      <td>NaN</td>\n",
       "      <td>NaN</td>\n",
       "    </tr>\n",
       "    <tr>\n",
       "      <th>1</th>\n",
       "      <td>2000-01-04</td>\n",
       "      <td>INFOSYSTCH</td>\n",
       "      <td>EQ</td>\n",
       "      <td>15625.20</td>\n",
       "      <td>16800.00</td>\n",
       "      <td>16875.25</td>\n",
       "      <td>16253.00</td>\n",
       "      <td>16875.25</td>\n",
       "      <td>16855.90</td>\n",
       "      <td>16646.38</td>\n",
       "      <td>56186</td>\n",
       "      <td>9.352937e+13</td>\n",
       "      <td>NaN</td>\n",
       "      <td>NaN</td>\n",
       "      <td>NaN</td>\n",
       "    </tr>\n",
       "    <tr>\n",
       "      <th>2</th>\n",
       "      <td>2000-01-05</td>\n",
       "      <td>INFOSYSTCH</td>\n",
       "      <td>EQ</td>\n",
       "      <td>16855.90</td>\n",
       "      <td>15701.00</td>\n",
       "      <td>16250.00</td>\n",
       "      <td>15507.45</td>\n",
       "      <td>15507.45</td>\n",
       "      <td>15507.45</td>\n",
       "      <td>15786.38</td>\n",
       "      <td>164605</td>\n",
       "      <td>2.598516e+14</td>\n",
       "      <td>NaN</td>\n",
       "      <td>NaN</td>\n",
       "      <td>NaN</td>\n",
       "    </tr>\n",
       "    <tr>\n",
       "      <th>3</th>\n",
       "      <td>2000-01-06</td>\n",
       "      <td>INFOSYSTCH</td>\n",
       "      <td>EQ</td>\n",
       "      <td>15507.45</td>\n",
       "      <td>15256.65</td>\n",
       "      <td>15300.00</td>\n",
       "      <td>14266.85</td>\n",
       "      <td>14266.85</td>\n",
       "      <td>14266.85</td>\n",
       "      <td>14462.82</td>\n",
       "      <td>81997</td>\n",
       "      <td>1.185908e+14</td>\n",
       "      <td>NaN</td>\n",
       "      <td>NaN</td>\n",
       "      <td>NaN</td>\n",
       "    </tr>\n",
       "    <tr>\n",
       "      <th>4</th>\n",
       "      <td>2000-01-07</td>\n",
       "      <td>INFOSYSTCH</td>\n",
       "      <td>EQ</td>\n",
       "      <td>14266.85</td>\n",
       "      <td>13125.50</td>\n",
       "      <td>13125.50</td>\n",
       "      <td>13125.50</td>\n",
       "      <td>13125.50</td>\n",
       "      <td>13125.50</td>\n",
       "      <td>13125.50</td>\n",
       "      <td>7589</td>\n",
       "      <td>9.960942e+12</td>\n",
       "      <td>NaN</td>\n",
       "      <td>NaN</td>\n",
       "      <td>NaN</td>\n",
       "    </tr>\n",
       "  </tbody>\n",
       "</table>\n",
       "</div>"
      ],
      "text/plain": [
       "         Date      Symbol Series  Prev Close      Open      High       Low  \\\n",
       "0  2000-01-03  INFOSYSTCH     EQ    14467.75  15625.00  15625.20  15625.00   \n",
       "1  2000-01-04  INFOSYSTCH     EQ    15625.20  16800.00  16875.25  16253.00   \n",
       "2  2000-01-05  INFOSYSTCH     EQ    16855.90  15701.00  16250.00  15507.45   \n",
       "3  2000-01-06  INFOSYSTCH     EQ    15507.45  15256.65  15300.00  14266.85   \n",
       "4  2000-01-07  INFOSYSTCH     EQ    14266.85  13125.50  13125.50  13125.50   \n",
       "\n",
       "       Last     Close      VWAP  Volume      Turnover  Trades  \\\n",
       "0  15625.20  15625.20  15625.18    5137  8.026657e+12     NaN   \n",
       "1  16875.25  16855.90  16646.38   56186  9.352937e+13     NaN   \n",
       "2  15507.45  15507.45  15786.38  164605  2.598516e+14     NaN   \n",
       "3  14266.85  14266.85  14462.82   81997  1.185908e+14     NaN   \n",
       "4  13125.50  13125.50  13125.50    7589  9.960942e+12     NaN   \n",
       "\n",
       "   Deliverable Volume  %Deliverble  \n",
       "0                 NaN          NaN  \n",
       "1                 NaN          NaN  \n",
       "2                 NaN          NaN  \n",
       "3                 NaN          NaN  \n",
       "4                 NaN          NaN  "
      ]
     },
     "execution_count": 2,
     "metadata": {},
     "output_type": "execute_result"
    }
   ],
   "source": [
    "#reading the data from \"datasets_423609_1456925_INFY\" file\n",
    "data = pd.read_csv('datasets_423609_1456925_INFY.csv')\n",
    "print('From Top\\n')\n",
    "data.head()"
   ]
  },
  {
   "cell_type": "code",
   "execution_count": 4,
   "metadata": {},
   "outputs": [
    {
     "name": "stdout",
     "output_type": "stream",
     "text": [
      "From Bottom\n",
      "\n"
     ]
    },
    {
     "data": {
      "text/html": [
       "<div>\n",
       "<style scoped>\n",
       "    .dataframe tbody tr th:only-of-type {\n",
       "        vertical-align: middle;\n",
       "    }\n",
       "\n",
       "    .dataframe tbody tr th {\n",
       "        vertical-align: top;\n",
       "    }\n",
       "\n",
       "    .dataframe thead th {\n",
       "        text-align: right;\n",
       "    }\n",
       "</style>\n",
       "<table border=\"1\" class=\"dataframe\">\n",
       "  <thead>\n",
       "    <tr style=\"text-align: right;\">\n",
       "      <th></th>\n",
       "      <th>Date</th>\n",
       "      <th>Symbol</th>\n",
       "      <th>Series</th>\n",
       "      <th>Prev Close</th>\n",
       "      <th>Open</th>\n",
       "      <th>High</th>\n",
       "      <th>Low</th>\n",
       "      <th>Last</th>\n",
       "      <th>Close</th>\n",
       "      <th>VWAP</th>\n",
       "      <th>Volume</th>\n",
       "      <th>Turnover</th>\n",
       "      <th>Trades</th>\n",
       "      <th>Deliverable Volume</th>\n",
       "      <th>%Deliverble</th>\n",
       "    </tr>\n",
       "  </thead>\n",
       "  <tbody>\n",
       "    <tr>\n",
       "      <th>5136</th>\n",
       "      <td>2020-08-25</td>\n",
       "      <td>INFY</td>\n",
       "      <td>EQ</td>\n",
       "      <td>947.40</td>\n",
       "      <td>947.50</td>\n",
       "      <td>948.65</td>\n",
       "      <td>933.60</td>\n",
       "      <td>938.60</td>\n",
       "      <td>938.10</td>\n",
       "      <td>940.65</td>\n",
       "      <td>6233923</td>\n",
       "      <td>5.863928e+14</td>\n",
       "      <td>105761.0</td>\n",
       "      <td>3116528.0</td>\n",
       "      <td>0.4999</td>\n",
       "    </tr>\n",
       "    <tr>\n",
       "      <th>5137</th>\n",
       "      <td>2020-08-26</td>\n",
       "      <td>INFY</td>\n",
       "      <td>EQ</td>\n",
       "      <td>938.10</td>\n",
       "      <td>941.25</td>\n",
       "      <td>954.25</td>\n",
       "      <td>938.40</td>\n",
       "      <td>953.50</td>\n",
       "      <td>950.80</td>\n",
       "      <td>945.03</td>\n",
       "      <td>5153663</td>\n",
       "      <td>4.870350e+14</td>\n",
       "      <td>114894.0</td>\n",
       "      <td>2282594.0</td>\n",
       "      <td>0.4429</td>\n",
       "    </tr>\n",
       "    <tr>\n",
       "      <th>5138</th>\n",
       "      <td>2020-08-27</td>\n",
       "      <td>INFY</td>\n",
       "      <td>EQ</td>\n",
       "      <td>950.80</td>\n",
       "      <td>960.00</td>\n",
       "      <td>960.95</td>\n",
       "      <td>945.20</td>\n",
       "      <td>950.80</td>\n",
       "      <td>947.05</td>\n",
       "      <td>952.03</td>\n",
       "      <td>6154300</td>\n",
       "      <td>5.859108e+14</td>\n",
       "      <td>124639.0</td>\n",
       "      <td>2632139.0</td>\n",
       "      <td>0.4277</td>\n",
       "    </tr>\n",
       "    <tr>\n",
       "      <th>5139</th>\n",
       "      <td>2020-08-28</td>\n",
       "      <td>INFY</td>\n",
       "      <td>EQ</td>\n",
       "      <td>947.05</td>\n",
       "      <td>951.45</td>\n",
       "      <td>952.50</td>\n",
       "      <td>933.05</td>\n",
       "      <td>935.05</td>\n",
       "      <td>935.25</td>\n",
       "      <td>940.50</td>\n",
       "      <td>7593988</td>\n",
       "      <td>7.142135e+14</td>\n",
       "      <td>180829.0</td>\n",
       "      <td>4654594.0</td>\n",
       "      <td>0.6129</td>\n",
       "    </tr>\n",
       "    <tr>\n",
       "      <th>5140</th>\n",
       "      <td>2020-08-31</td>\n",
       "      <td>INFY</td>\n",
       "      <td>EQ</td>\n",
       "      <td>935.25</td>\n",
       "      <td>935.25</td>\n",
       "      <td>950.50</td>\n",
       "      <td>914.60</td>\n",
       "      <td>919.70</td>\n",
       "      <td>928.60</td>\n",
       "      <td>933.36</td>\n",
       "      <td>12808369</td>\n",
       "      <td>1.195481e+15</td>\n",
       "      <td>206060.0</td>\n",
       "      <td>6793301.0</td>\n",
       "      <td>0.5304</td>\n",
       "    </tr>\n",
       "  </tbody>\n",
       "</table>\n",
       "</div>"
      ],
      "text/plain": [
       "            Date Symbol Series  Prev Close    Open    High     Low    Last  \\\n",
       "5136  2020-08-25   INFY     EQ      947.40  947.50  948.65  933.60  938.60   \n",
       "5137  2020-08-26   INFY     EQ      938.10  941.25  954.25  938.40  953.50   \n",
       "5138  2020-08-27   INFY     EQ      950.80  960.00  960.95  945.20  950.80   \n",
       "5139  2020-08-28   INFY     EQ      947.05  951.45  952.50  933.05  935.05   \n",
       "5140  2020-08-31   INFY     EQ      935.25  935.25  950.50  914.60  919.70   \n",
       "\n",
       "       Close    VWAP    Volume      Turnover    Trades  Deliverable Volume  \\\n",
       "5136  938.10  940.65   6233923  5.863928e+14  105761.0           3116528.0   \n",
       "5137  950.80  945.03   5153663  4.870350e+14  114894.0           2282594.0   \n",
       "5138  947.05  952.03   6154300  5.859108e+14  124639.0           2632139.0   \n",
       "5139  935.25  940.50   7593988  7.142135e+14  180829.0           4654594.0   \n",
       "5140  928.60  933.36  12808369  1.195481e+15  206060.0           6793301.0   \n",
       "\n",
       "      %Deliverble  \n",
       "5136       0.4999  \n",
       "5137       0.4429  \n",
       "5138       0.4277  \n",
       "5139       0.6129  \n",
       "5140       0.5304  "
      ]
     },
     "execution_count": 4,
     "metadata": {},
     "output_type": "execute_result"
    }
   ],
   "source": [
    "print('From Bottom\\n')\n",
    "data.tail()"
   ]
  },
  {
   "cell_type": "markdown",
   "metadata": {},
   "source": [
    "# Training and Testing(75% - 25%) "
   ]
  },
  {
   "cell_type": "code",
   "execution_count": 5,
   "metadata": {},
   "outputs": [
    {
     "data": {
      "text/html": [
       "<div>\n",
       "<style scoped>\n",
       "    .dataframe tbody tr th:only-of-type {\n",
       "        vertical-align: middle;\n",
       "    }\n",
       "\n",
       "    .dataframe tbody tr th {\n",
       "        vertical-align: top;\n",
       "    }\n",
       "\n",
       "    .dataframe thead th {\n",
       "        text-align: right;\n",
       "    }\n",
       "</style>\n",
       "<table border=\"1\" class=\"dataframe\">\n",
       "  <thead>\n",
       "    <tr style=\"text-align: right;\">\n",
       "      <th></th>\n",
       "      <th>Date</th>\n",
       "      <th>Symbol</th>\n",
       "      <th>Series</th>\n",
       "      <th>Prev Close</th>\n",
       "      <th>Open</th>\n",
       "      <th>High</th>\n",
       "      <th>Low</th>\n",
       "      <th>Last</th>\n",
       "      <th>Close</th>\n",
       "      <th>VWAP</th>\n",
       "      <th>Volume</th>\n",
       "      <th>Turnover</th>\n",
       "      <th>Trades</th>\n",
       "      <th>Deliverable Volume</th>\n",
       "      <th>%Deliverble</th>\n",
       "    </tr>\n",
       "  </thead>\n",
       "  <tbody>\n",
       "    <tr>\n",
       "      <th>0</th>\n",
       "      <td>2000-01-03</td>\n",
       "      <td>INFOSYSTCH</td>\n",
       "      <td>EQ</td>\n",
       "      <td>14467.75</td>\n",
       "      <td>15625.00</td>\n",
       "      <td>15625.20</td>\n",
       "      <td>15625.00</td>\n",
       "      <td>15625.20</td>\n",
       "      <td>15625.20</td>\n",
       "      <td>15625.18</td>\n",
       "      <td>5137</td>\n",
       "      <td>8.026657e+12</td>\n",
       "      <td>NaN</td>\n",
       "      <td>NaN</td>\n",
       "      <td>NaN</td>\n",
       "    </tr>\n",
       "    <tr>\n",
       "      <th>1</th>\n",
       "      <td>2000-01-04</td>\n",
       "      <td>INFOSYSTCH</td>\n",
       "      <td>EQ</td>\n",
       "      <td>15625.20</td>\n",
       "      <td>16800.00</td>\n",
       "      <td>16875.25</td>\n",
       "      <td>16253.00</td>\n",
       "      <td>16875.25</td>\n",
       "      <td>16855.90</td>\n",
       "      <td>16646.38</td>\n",
       "      <td>56186</td>\n",
       "      <td>9.352937e+13</td>\n",
       "      <td>NaN</td>\n",
       "      <td>NaN</td>\n",
       "      <td>NaN</td>\n",
       "    </tr>\n",
       "    <tr>\n",
       "      <th>2</th>\n",
       "      <td>2000-01-05</td>\n",
       "      <td>INFOSYSTCH</td>\n",
       "      <td>EQ</td>\n",
       "      <td>16855.90</td>\n",
       "      <td>15701.00</td>\n",
       "      <td>16250.00</td>\n",
       "      <td>15507.45</td>\n",
       "      <td>15507.45</td>\n",
       "      <td>15507.45</td>\n",
       "      <td>15786.38</td>\n",
       "      <td>164605</td>\n",
       "      <td>2.598516e+14</td>\n",
       "      <td>NaN</td>\n",
       "      <td>NaN</td>\n",
       "      <td>NaN</td>\n",
       "    </tr>\n",
       "    <tr>\n",
       "      <th>3</th>\n",
       "      <td>2000-01-06</td>\n",
       "      <td>INFOSYSTCH</td>\n",
       "      <td>EQ</td>\n",
       "      <td>15507.45</td>\n",
       "      <td>15256.65</td>\n",
       "      <td>15300.00</td>\n",
       "      <td>14266.85</td>\n",
       "      <td>14266.85</td>\n",
       "      <td>14266.85</td>\n",
       "      <td>14462.82</td>\n",
       "      <td>81997</td>\n",
       "      <td>1.185908e+14</td>\n",
       "      <td>NaN</td>\n",
       "      <td>NaN</td>\n",
       "      <td>NaN</td>\n",
       "    </tr>\n",
       "    <tr>\n",
       "      <th>4</th>\n",
       "      <td>2000-01-07</td>\n",
       "      <td>INFOSYSTCH</td>\n",
       "      <td>EQ</td>\n",
       "      <td>14266.85</td>\n",
       "      <td>13125.50</td>\n",
       "      <td>13125.50</td>\n",
       "      <td>13125.50</td>\n",
       "      <td>13125.50</td>\n",
       "      <td>13125.50</td>\n",
       "      <td>13125.50</td>\n",
       "      <td>7589</td>\n",
       "      <td>9.960942e+12</td>\n",
       "      <td>NaN</td>\n",
       "      <td>NaN</td>\n",
       "      <td>NaN</td>\n",
       "    </tr>\n",
       "    <tr>\n",
       "      <th>...</th>\n",
       "      <td>...</td>\n",
       "      <td>...</td>\n",
       "      <td>...</td>\n",
       "      <td>...</td>\n",
       "      <td>...</td>\n",
       "      <td>...</td>\n",
       "      <td>...</td>\n",
       "      <td>...</td>\n",
       "      <td>...</td>\n",
       "      <td>...</td>\n",
       "      <td>...</td>\n",
       "      <td>...</td>\n",
       "      <td>...</td>\n",
       "      <td>...</td>\n",
       "      <td>...</td>\n",
       "    </tr>\n",
       "    <tr>\n",
       "      <th>3735</th>\n",
       "      <td>2014-12-24</td>\n",
       "      <td>INFY</td>\n",
       "      <td>EQ</td>\n",
       "      <td>1971.65</td>\n",
       "      <td>1976.00</td>\n",
       "      <td>1987.00</td>\n",
       "      <td>1915.05</td>\n",
       "      <td>1932.00</td>\n",
       "      <td>1930.55</td>\n",
       "      <td>1937.83</td>\n",
       "      <td>6834872</td>\n",
       "      <td>1.324484e+15</td>\n",
       "      <td>71870.0</td>\n",
       "      <td>5381741.0</td>\n",
       "      <td>0.7874</td>\n",
       "    </tr>\n",
       "    <tr>\n",
       "      <th>3736</th>\n",
       "      <td>2014-12-26</td>\n",
       "      <td>INFY</td>\n",
       "      <td>EQ</td>\n",
       "      <td>1930.55</td>\n",
       "      <td>1945.10</td>\n",
       "      <td>1960.70</td>\n",
       "      <td>1930.95</td>\n",
       "      <td>1951.90</td>\n",
       "      <td>1952.25</td>\n",
       "      <td>1946.36</td>\n",
       "      <td>567187</td>\n",
       "      <td>1.103950e+14</td>\n",
       "      <td>28049.0</td>\n",
       "      <td>235021.0</td>\n",
       "      <td>0.4144</td>\n",
       "    </tr>\n",
       "    <tr>\n",
       "      <th>3737</th>\n",
       "      <td>2014-12-29</td>\n",
       "      <td>INFY</td>\n",
       "      <td>EQ</td>\n",
       "      <td>1952.25</td>\n",
       "      <td>1956.05</td>\n",
       "      <td>1972.80</td>\n",
       "      <td>1952.50</td>\n",
       "      <td>1960.95</td>\n",
       "      <td>1957.80</td>\n",
       "      <td>1959.90</td>\n",
       "      <td>698169</td>\n",
       "      <td>1.368341e+14</td>\n",
       "      <td>33995.0</td>\n",
       "      <td>385864.0</td>\n",
       "      <td>0.5527</td>\n",
       "    </tr>\n",
       "    <tr>\n",
       "      <th>3738</th>\n",
       "      <td>2014-12-30</td>\n",
       "      <td>INFY</td>\n",
       "      <td>EQ</td>\n",
       "      <td>1957.80</td>\n",
       "      <td>1962.25</td>\n",
       "      <td>1975.00</td>\n",
       "      <td>1956.80</td>\n",
       "      <td>1966.90</td>\n",
       "      <td>1966.35</td>\n",
       "      <td>1966.45</td>\n",
       "      <td>1160138</td>\n",
       "      <td>2.281359e+14</td>\n",
       "      <td>59166.0</td>\n",
       "      <td>827058.0</td>\n",
       "      <td>0.7129</td>\n",
       "    </tr>\n",
       "    <tr>\n",
       "      <th>3739</th>\n",
       "      <td>2014-12-31</td>\n",
       "      <td>INFY</td>\n",
       "      <td>EQ</td>\n",
       "      <td>1966.35</td>\n",
       "      <td>1955.00</td>\n",
       "      <td>1978.95</td>\n",
       "      <td>1950.00</td>\n",
       "      <td>1970.00</td>\n",
       "      <td>1972.55</td>\n",
       "      <td>1968.43</td>\n",
       "      <td>1742202</td>\n",
       "      <td>3.429407e+14</td>\n",
       "      <td>35025.0</td>\n",
       "      <td>1384141.0</td>\n",
       "      <td>0.7945</td>\n",
       "    </tr>\n",
       "  </tbody>\n",
       "</table>\n",
       "<p>3740 rows × 15 columns</p>\n",
       "</div>"
      ],
      "text/plain": [
       "            Date      Symbol Series  Prev Close      Open      High       Low  \\\n",
       "0     2000-01-03  INFOSYSTCH     EQ    14467.75  15625.00  15625.20  15625.00   \n",
       "1     2000-01-04  INFOSYSTCH     EQ    15625.20  16800.00  16875.25  16253.00   \n",
       "2     2000-01-05  INFOSYSTCH     EQ    16855.90  15701.00  16250.00  15507.45   \n",
       "3     2000-01-06  INFOSYSTCH     EQ    15507.45  15256.65  15300.00  14266.85   \n",
       "4     2000-01-07  INFOSYSTCH     EQ    14266.85  13125.50  13125.50  13125.50   \n",
       "...          ...         ...    ...         ...       ...       ...       ...   \n",
       "3735  2014-12-24        INFY     EQ     1971.65   1976.00   1987.00   1915.05   \n",
       "3736  2014-12-26        INFY     EQ     1930.55   1945.10   1960.70   1930.95   \n",
       "3737  2014-12-29        INFY     EQ     1952.25   1956.05   1972.80   1952.50   \n",
       "3738  2014-12-30        INFY     EQ     1957.80   1962.25   1975.00   1956.80   \n",
       "3739  2014-12-31        INFY     EQ     1966.35   1955.00   1978.95   1950.00   \n",
       "\n",
       "          Last     Close      VWAP   Volume      Turnover   Trades  \\\n",
       "0     15625.20  15625.20  15625.18     5137  8.026657e+12      NaN   \n",
       "1     16875.25  16855.90  16646.38    56186  9.352937e+13      NaN   \n",
       "2     15507.45  15507.45  15786.38   164605  2.598516e+14      NaN   \n",
       "3     14266.85  14266.85  14462.82    81997  1.185908e+14      NaN   \n",
       "4     13125.50  13125.50  13125.50     7589  9.960942e+12      NaN   \n",
       "...        ...       ...       ...      ...           ...      ...   \n",
       "3735   1932.00   1930.55   1937.83  6834872  1.324484e+15  71870.0   \n",
       "3736   1951.90   1952.25   1946.36   567187  1.103950e+14  28049.0   \n",
       "3737   1960.95   1957.80   1959.90   698169  1.368341e+14  33995.0   \n",
       "3738   1966.90   1966.35   1966.45  1160138  2.281359e+14  59166.0   \n",
       "3739   1970.00   1972.55   1968.43  1742202  3.429407e+14  35025.0   \n",
       "\n",
       "      Deliverable Volume  %Deliverble  \n",
       "0                    NaN          NaN  \n",
       "1                    NaN          NaN  \n",
       "2                    NaN          NaN  \n",
       "3                    NaN          NaN  \n",
       "4                    NaN          NaN  \n",
       "...                  ...          ...  \n",
       "3735           5381741.0       0.7874  \n",
       "3736            235021.0       0.4144  \n",
       "3737            385864.0       0.5527  \n",
       "3738            827058.0       0.7129  \n",
       "3739           1384141.0       0.7945  \n",
       "\n",
       "[3740 rows x 15 columns]"
      ]
     },
     "execution_count": 5,
     "metadata": {},
     "output_type": "execute_result"
    }
   ],
   "source": [
    "data_training = data[data['Date']<'2015-01-01'].copy()#dividing training set\n",
    "data_testing = data[data['Date']>='2015-01-01'].copy()#dividing testing set\n",
    "\n",
    "data_training"
   ]
  },
  {
   "cell_type": "code",
   "execution_count": 6,
   "metadata": {},
   "outputs": [
    {
     "data": {
      "text/html": [
       "<div>\n",
       "<style scoped>\n",
       "    .dataframe tbody tr th:only-of-type {\n",
       "        vertical-align: middle;\n",
       "    }\n",
       "\n",
       "    .dataframe tbody tr th {\n",
       "        vertical-align: top;\n",
       "    }\n",
       "\n",
       "    .dataframe thead th {\n",
       "        text-align: right;\n",
       "    }\n",
       "</style>\n",
       "<table border=\"1\" class=\"dataframe\">\n",
       "  <thead>\n",
       "    <tr style=\"text-align: right;\">\n",
       "      <th></th>\n",
       "      <th>Open</th>\n",
       "      <th>High</th>\n",
       "      <th>Low</th>\n",
       "      <th>Close</th>\n",
       "      <th>Volume</th>\n",
       "    </tr>\n",
       "  </thead>\n",
       "  <tbody>\n",
       "    <tr>\n",
       "      <th>0</th>\n",
       "      <td>15625.00</td>\n",
       "      <td>15625.20</td>\n",
       "      <td>15625.00</td>\n",
       "      <td>15625.20</td>\n",
       "      <td>5137</td>\n",
       "    </tr>\n",
       "    <tr>\n",
       "      <th>1</th>\n",
       "      <td>16800.00</td>\n",
       "      <td>16875.25</td>\n",
       "      <td>16253.00</td>\n",
       "      <td>16855.90</td>\n",
       "      <td>56186</td>\n",
       "    </tr>\n",
       "    <tr>\n",
       "      <th>2</th>\n",
       "      <td>15701.00</td>\n",
       "      <td>16250.00</td>\n",
       "      <td>15507.45</td>\n",
       "      <td>15507.45</td>\n",
       "      <td>164605</td>\n",
       "    </tr>\n",
       "    <tr>\n",
       "      <th>3</th>\n",
       "      <td>15256.65</td>\n",
       "      <td>15300.00</td>\n",
       "      <td>14266.85</td>\n",
       "      <td>14266.85</td>\n",
       "      <td>81997</td>\n",
       "    </tr>\n",
       "    <tr>\n",
       "      <th>4</th>\n",
       "      <td>13125.50</td>\n",
       "      <td>13125.50</td>\n",
       "      <td>13125.50</td>\n",
       "      <td>13125.50</td>\n",
       "      <td>7589</td>\n",
       "    </tr>\n",
       "  </tbody>\n",
       "</table>\n",
       "</div>"
      ],
      "text/plain": [
       "       Open      High       Low     Close  Volume\n",
       "0  15625.00  15625.20  15625.00  15625.20    5137\n",
       "1  16800.00  16875.25  16253.00  16855.90   56186\n",
       "2  15701.00  16250.00  15507.45  15507.45  164605\n",
       "3  15256.65  15300.00  14266.85  14266.85   81997\n",
       "4  13125.50  13125.50  13125.50  13125.50    7589"
      ]
     },
     "execution_count": 6,
     "metadata": {},
     "output_type": "execute_result"
    }
   ],
   "source": [
    "training_data = data_training.drop(['Date','Symbol','Series','Prev Close','Last','VWAP','Turnover','Trades','Deliverable Volume','%Deliverble'],axis=1)\n",
    "training_data.head()                                  "
   ]
  },
  {
   "cell_type": "code",
   "execution_count": 7,
   "metadata": {},
   "outputs": [
    {
     "data": {
      "text/plain": [
       "array([[9.25144932e-01, 9.20660208e-01, 9.58719516e-01, 9.21878174e-01,\n",
       "        4.43997497e-05],\n",
       "       [1.00000000e+00, 1.00000000e+00, 1.00000000e+00, 1.00000000e+00,\n",
       "        1.27222360e-03],\n",
       "       [9.29986622e-01, 9.60315823e-01, 9.50992572e-01, 9.14403692e-01,\n",
       "        3.87990315e-03],\n",
       "       ...,\n",
       "       [5.43447793e-02, 5.41520026e-02, 5.99815947e-02, 5.43050477e-02,\n",
       "        1.67131144e-02],\n",
       "       [5.47397592e-02, 5.42916351e-02, 6.02642477e-02, 5.48477808e-02,\n",
       "        2.78243322e-02],\n",
       "       [5.42778875e-02, 5.45423388e-02, 5.98172616e-02, 5.52413417e-02,\n",
       "        4.18240591e-02]])"
      ]
     },
     "execution_count": 7,
     "metadata": {},
     "output_type": "execute_result"
    }
   ],
   "source": [
    "Scaler = MinMaxScaler()#scaling the values\n",
    "training_data = Scaler.fit_transform(training_data)\n",
    "training_data"
   ]
  },
  {
   "cell_type": "code",
   "execution_count": 8,
   "metadata": {},
   "outputs": [
    {
     "data": {
      "text/plain": [
       "3740"
      ]
     },
     "execution_count": 8,
     "metadata": {},
     "output_type": "execute_result"
    }
   ],
   "source": [
    "x_train = []\n",
    "y_train = []\n",
    "training_data.shape[0]"
   ]
  },
  {
   "cell_type": "code",
   "execution_count": 9,
   "metadata": {},
   "outputs": [],
   "source": [
    "for i in range(30,training_data.shape[0]):\n",
    "    x_train.append(training_data[i-30:i])\n",
    "    y_train.append(training_data[i,0])"
   ]
  },
  {
   "cell_type": "code",
   "execution_count": 10,
   "metadata": {},
   "outputs": [
    {
     "data": {
      "text/plain": [
       "(3710, 30, 5)"
      ]
     },
     "execution_count": 10,
     "metadata": {},
     "output_type": "execute_result"
    }
   ],
   "source": [
    "x_train,y_train = np.array(x_train),np.array(y_train)\n",
    "x_train.shape"
   ]
  },
  {
   "cell_type": "markdown",
   "metadata": {},
   "source": [
    "# Building LSTM"
   ]
  },
  {
   "cell_type": "code",
   "execution_count": 11,
   "metadata": {},
   "outputs": [],
   "source": [
    "from tensorflow.keras import Sequential\n",
    "from tensorflow.keras.layers import Dense,LSTM, Dropout #importing layers"
   ]
  },
  {
   "cell_type": "code",
   "execution_count": 51,
   "metadata": {},
   "outputs": [
    {
     "name": "stdout",
     "output_type": "stream",
     "text": [
      "Model: \"sequential_3\"\n",
      "_________________________________________________________________\n",
      "Layer (type)                 Output Shape              Param #   \n",
      "=================================================================\n",
      "lstm_12 (LSTM)               (None, 30, 60)            15840     \n",
      "_________________________________________________________________\n",
      "dropout_12 (Dropout)         (None, 30, 60)            0         \n",
      "_________________________________________________________________\n",
      "lstm_13 (LSTM)               (None, 30, 60)            29040     \n",
      "_________________________________________________________________\n",
      "dropout_13 (Dropout)         (None, 30, 60)            0         \n",
      "_________________________________________________________________\n",
      "lstm_14 (LSTM)               (None, 30, 80)            45120     \n",
      "_________________________________________________________________\n",
      "dropout_14 (Dropout)         (None, 30, 80)            0         \n",
      "_________________________________________________________________\n",
      "lstm_15 (LSTM)               (None, 120)               96480     \n",
      "_________________________________________________________________\n",
      "dropout_15 (Dropout)         (None, 120)               0         \n",
      "_________________________________________________________________\n",
      "dense_3 (Dense)              (None, 1)                 121       \n",
      "=================================================================\n",
      "Total params: 186,601\n",
      "Trainable params: 186,601\n",
      "Non-trainable params: 0\n",
      "_________________________________________________________________\n"
     ]
    }
   ],
   "source": [
    "regressior = Sequential()\n",
    "\n",
    "regressior.add(LSTM(units=60,activation='relu',return_sequences = True, input_shape=(x_train.shape[1],5)))\n",
    "regressior.add(Dropout(0.05))\n",
    "\n",
    "regressior.add(LSTM(units=60,activation='relu',return_sequences = True))\n",
    "regressior.add(Dropout(0.05))\n",
    "\n",
    "regressior.add(LSTM(units=80,activation='relu',return_sequences = True))\n",
    "regressior.add(Dropout(0.05))\n",
    "\n",
    "regressior.add(LSTM(units=120,activation='relu'))\n",
    "regressior.add(Dropout(0.05))\n",
    "\n",
    "regressior.add(Dense(units=1))\n",
    "\n",
    "regressior.summary()"
   ]
  },
  {
   "cell_type": "markdown",
   "metadata": {},
   "source": [
    "# Model is ready"
   ]
  },
  {
   "cell_type": "code",
   "execution_count": 52,
   "metadata": {},
   "outputs": [
    {
     "name": "stdout",
     "output_type": "stream",
     "text": [
      "Train on 3710 samples\n",
      "Epoch 1/50\n",
      "3710/3710 [==============================] - 8s 2ms/sample - loss: 0.0026\n",
      "Epoch 2/50\n",
      "3710/3710 [==============================] - 5s 1ms/sample - loss: 7.9491e-04\n",
      "Epoch 3/50\n",
      "3710/3710 [==============================] - 5s 1ms/sample - loss: 7.7327e-04\n",
      "Epoch 4/50\n",
      "3710/3710 [==============================] - 5s 1ms/sample - loss: 6.8571e-04\n",
      "Epoch 5/50\n",
      "3710/3710 [==============================] - 5s 1ms/sample - loss: 6.0049e-04\n",
      "Epoch 6/50\n",
      "3710/3710 [==============================] - 5s 1ms/sample - loss: 5.9141e-04\n",
      "Epoch 7/50\n",
      "3710/3710 [==============================] - 5s 1ms/sample - loss: 5.8974e-04\n",
      "Epoch 8/50\n",
      "3710/3710 [==============================] - 5s 1ms/sample - loss: 4.1963e-04\n",
      "Epoch 9/50\n",
      "3710/3710 [==============================] - 5s 1ms/sample - loss: 3.5781e-04\n",
      "Epoch 10/50\n",
      "3710/3710 [==============================] - 5s 1ms/sample - loss: 3.6313e-04\n",
      "Epoch 11/50\n",
      "3710/3710 [==============================] - 5s 1ms/sample - loss: 3.6451e-04\n",
      "Epoch 12/50\n",
      "3710/3710 [==============================] - 6s 2ms/sample - loss: 3.5281e-04\n",
      "Epoch 13/50\n",
      "3710/3710 [==============================] - 6s 2ms/sample - loss: 3.9424e-04\n",
      "Epoch 14/50\n",
      "3710/3710 [==============================] - 6s 2ms/sample - loss: 2.7573e-04\n",
      "Epoch 15/50\n",
      "3710/3710 [==============================] - 6s 2ms/sample - loss: 2.8779e-04\n",
      "Epoch 16/50\n",
      "3710/3710 [==============================] - 6s 2ms/sample - loss: 2.6749e-04\n",
      "Epoch 17/50\n",
      "3710/3710 [==============================] - 6s 2ms/sample - loss: 2.6523e-04\n",
      "Epoch 18/50\n",
      "3710/3710 [==============================] - 5s 1ms/sample - loss: 2.6146e-04\n",
      "Epoch 19/50\n",
      "3710/3710 [==============================] - 5s 1ms/sample - loss: 3.2217e-04\n",
      "Epoch 20/50\n",
      "3710/3710 [==============================] - 5s 1ms/sample - loss: 2.2476e-04\n",
      "Epoch 21/50\n",
      "3710/3710 [==============================] - 5s 1ms/sample - loss: 2.3150e-04\n",
      "Epoch 22/50\n",
      "3710/3710 [==============================] - 6s 2ms/sample - loss: 2.2992e-04\n",
      "Epoch 23/50\n",
      "3710/3710 [==============================] - 6s 2ms/sample - loss: 2.3653e-04 0s \n",
      "Epoch 24/50\n",
      "3710/3710 [==============================] - 7s 2ms/sample - loss: 1.9403e-04\n",
      "Epoch 25/50\n",
      "3710/3710 [==============================] - 6s 2ms/sample - loss: 2.7162e-04\n",
      "Epoch 26/50\n",
      "3710/3710 [==============================] - 6s 2ms/sample - loss: 2.0924e-04\n",
      "Epoch 27/50\n",
      "3710/3710 [==============================] - 5s 1ms/sample - loss: 2.0438e-04\n",
      "Epoch 28/50\n",
      "3710/3710 [==============================] - 5s 1ms/sample - loss: 1.9537e-04\n",
      "Epoch 29/50\n",
      "3710/3710 [==============================] - 6s 2ms/sample - loss: 2.1132e-04\n",
      "Epoch 30/50\n",
      "3710/3710 [==============================] - 6s 2ms/sample - loss: 2.4224e-04\n",
      "Epoch 31/50\n",
      "3710/3710 [==============================] - 6s 2ms/sample - loss: 1.8108e-04\n",
      "Epoch 32/50\n",
      "3710/3710 [==============================] - 6s 2ms/sample - loss: 1.8314e-04\n",
      "Epoch 33/50\n",
      "3710/3710 [==============================] - 6s 2ms/sample - loss: 1.8283e-04\n",
      "Epoch 34/50\n",
      "3710/3710 [==============================] - 6s 2ms/sample - loss: 1.7307e-04\n",
      "Epoch 35/50\n",
      "3710/3710 [==============================] - 6s 2ms/sample - loss: 1.9409e-04\n",
      "Epoch 36/50\n",
      "3710/3710 [==============================] - 6s 2ms/sample - loss: 1.7658e-04\n",
      "Epoch 37/50\n",
      "3710/3710 [==============================] - 5s 1ms/sample - loss: 1.8412e-04\n",
      "Epoch 38/50\n",
      "3710/3710 [==============================] - 5s 1ms/sample - loss: 1.6544e-04\n",
      "Epoch 39/50\n",
      "3710/3710 [==============================] - 6s 2ms/sample - loss: 1.6433e-04\n",
      "Epoch 40/50\n",
      "3710/3710 [==============================] - 6s 2ms/sample - loss: 1.7778e-04\n",
      "Epoch 41/50\n",
      "3710/3710 [==============================] - 6s 2ms/sample - loss: 2.4021e-04\n",
      "Epoch 42/50\n",
      "3710/3710 [==============================] - 7s 2ms/sample - loss: 1.6916e-04\n",
      "Epoch 43/50\n",
      "3710/3710 [==============================] - 6s 2ms/sample - loss: 1.8931e-04\n",
      "Epoch 44/50\n",
      "3710/3710 [==============================] - 5s 1ms/sample - loss: 1.5554e-04\n",
      "Epoch 45/50\n",
      "3710/3710 [==============================] - 5s 1ms/sample - loss: 1.5167e-04\n",
      "Epoch 46/50\n",
      "3710/3710 [==============================] - 6s 2ms/sample - loss: 1.4686e-04\n",
      "Epoch 47/50\n",
      "3710/3710 [==============================] - 6s 2ms/sample - loss: 1.8002e-04\n",
      "Epoch 48/50\n",
      "3710/3710 [==============================] - 6s 2ms/sample - loss: 1.6834e-04\n",
      "Epoch 49/50\n",
      "3710/3710 [==============================] - 6s 2ms/sample - loss: 1.3445e-04\n",
      "Epoch 50/50\n",
      "3710/3710 [==============================] - 6s 2ms/sample - loss: 1.5159e-04\n"
     ]
    },
    {
     "data": {
      "text/plain": [
       "<tensorflow.python.keras.callbacks.History at 0x277a919df60>"
      ]
     },
     "execution_count": 52,
     "metadata": {},
     "output_type": "execute_result"
    }
   ],
   "source": [
    "regressior.compile(optimizer='adam',loss='mean_squared_error')\n",
    "regressior.fit(x_train,y_train,epochs=50,batch_size=32)"
   ]
  },
  {
   "cell_type": "markdown",
   "metadata": {},
   "source": [
    "# Training Done on Training set"
   ]
  },
  {
   "cell_type": "markdown",
   "metadata": {},
   "source": [
    "# Preparing Test dataset"
   ]
  },
  {
   "cell_type": "code",
   "execution_count": 53,
   "metadata": {},
   "outputs": [
    {
     "data": {
      "text/html": [
       "<div>\n",
       "<style scoped>\n",
       "    .dataframe tbody tr th:only-of-type {\n",
       "        vertical-align: middle;\n",
       "    }\n",
       "\n",
       "    .dataframe tbody tr th {\n",
       "        vertical-align: top;\n",
       "    }\n",
       "\n",
       "    .dataframe thead th {\n",
       "        text-align: right;\n",
       "    }\n",
       "</style>\n",
       "<table border=\"1\" class=\"dataframe\">\n",
       "  <thead>\n",
       "    <tr style=\"text-align: right;\">\n",
       "      <th></th>\n",
       "      <th>Open</th>\n",
       "      <th>High</th>\n",
       "      <th>Low</th>\n",
       "      <th>Close</th>\n",
       "      <th>Volume</th>\n",
       "    </tr>\n",
       "  </thead>\n",
       "  <tbody>\n",
       "    <tr>\n",
       "      <th>0</th>\n",
       "      <td>4180.0</td>\n",
       "      <td>4189.95</td>\n",
       "      <td>4139.75</td>\n",
       "      <td>4173.35</td>\n",
       "      <td>650140</td>\n",
       "    </tr>\n",
       "    <tr>\n",
       "      <th>1</th>\n",
       "      <td>4190.0</td>\n",
       "      <td>4232.50</td>\n",
       "      <td>4183.85</td>\n",
       "      <td>4225.60</td>\n",
       "      <td>668491</td>\n",
       "    </tr>\n",
       "    <tr>\n",
       "      <th>2</th>\n",
       "      <td>4170.0</td>\n",
       "      <td>4179.00</td>\n",
       "      <td>4101.60</td>\n",
       "      <td>4146.15</td>\n",
       "      <td>1307909</td>\n",
       "    </tr>\n",
       "    <tr>\n",
       "      <th>3</th>\n",
       "      <td>4200.0</td>\n",
       "      <td>4281.65</td>\n",
       "      <td>4191.95</td>\n",
       "      <td>4275.10</td>\n",
       "      <td>1380930</td>\n",
       "    </tr>\n",
       "    <tr>\n",
       "      <th>4</th>\n",
       "      <td>4295.0</td>\n",
       "      <td>4319.95</td>\n",
       "      <td>4246.00</td>\n",
       "      <td>4303.20</td>\n",
       "      <td>1860822</td>\n",
       "    </tr>\n",
       "  </tbody>\n",
       "</table>\n",
       "</div>"
      ],
      "text/plain": [
       "     Open     High      Low    Close   Volume\n",
       "0  4180.0  4189.95  4139.75  4173.35   650140\n",
       "1  4190.0  4232.50  4183.85  4225.60   668491\n",
       "2  4170.0  4179.00  4101.60  4146.15  1307909\n",
       "3  4200.0  4281.65  4191.95  4275.10  1380930\n",
       "4  4295.0  4319.95  4246.00  4303.20  1860822"
      ]
     },
     "execution_count": 53,
     "metadata": {},
     "output_type": "execute_result"
    }
   ],
   "source": [
    "past_30_days = data_training.tail(30)\n",
    "df = past_30_days.append(data_testing,ignore_index=True)\n",
    "df = df.drop(['Date','Symbol','Series','Prev Close','Last','VWAP','Turnover','Trades','Deliverable Volume','%Deliverble'],axis=1)\n",
    "df.head()"
   ]
  },
  {
   "cell_type": "code",
   "execution_count": 54,
   "metadata": {},
   "outputs": [
    {
     "data": {
      "text/plain": [
       "array([[ 0.19602472,  0.19487295,  0.20375666,  0.19494274,  0.01555793],\n",
       "       [ 0.19666178,  0.19757357,  0.20665549,  0.19825945,  0.0159993 ],\n",
       "       [ 0.19538765,  0.19417796,  0.20124893,  0.19321615,  0.0313785 ],\n",
       "       ...,\n",
       "       [-0.00911002, -0.0100694 , -0.00623151, -0.00985489,  0.14794326],\n",
       "       [-0.00965471, -0.01060572, -0.00703017, -0.01060393,  0.18257045],\n",
       "       [-0.01068676, -0.01073266, -0.00824295, -0.01102605,  0.30798606]])"
      ]
     },
     "execution_count": 54,
     "metadata": {},
     "output_type": "execute_result"
    }
   ],
   "source": [
    "inputs = Scaler.transform(df)\n",
    "inputs"
   ]
  },
  {
   "cell_type": "code",
   "execution_count": 55,
   "metadata": {},
   "outputs": [
    {
     "data": {
      "text/plain": [
       "1431"
      ]
     },
     "execution_count": 55,
     "metadata": {},
     "output_type": "execute_result"
    }
   ],
   "source": [
    "x_test = []\n",
    "y_test = []\n",
    "\n",
    "inputs.shape[0]"
   ]
  },
  {
   "cell_type": "code",
   "execution_count": 56,
   "metadata": {},
   "outputs": [],
   "source": [
    "for i in range(30,inputs.shape[0]):\n",
    "    x_test.append(inputs[i-30:i])\n",
    "    y_test.append(inputs[i,0])"
   ]
  },
  {
   "cell_type": "code",
   "execution_count": 57,
   "metadata": {},
   "outputs": [
    {
     "data": {
      "text/plain": [
       "((1401, 30, 5), (1401,))"
      ]
     },
     "execution_count": 57,
     "metadata": {},
     "output_type": "execute_result"
    }
   ],
   "source": [
    "x_test,y_test = np.array(x_test),np.array(y_test)\n",
    "x_test.shape, y_test.shape"
   ]
  },
  {
   "cell_type": "code",
   "execution_count": 58,
   "metadata": {},
   "outputs": [],
   "source": [
    "y_pred = regressior.predict(x_test)"
   ]
  },
  {
   "cell_type": "code",
   "execution_count": 59,
   "metadata": {},
   "outputs": [
    {
     "data": {
      "text/plain": [
       "array([[ 5.7105169e-02],\n",
       "       [ 5.7408318e-02],\n",
       "       [ 5.7688855e-02],\n",
       "       ...,\n",
       "       [ 4.7979504e-04],\n",
       "       [ 2.5434047e-04],\n",
       "       [-4.9866736e-05]], dtype=float32)"
      ]
     },
     "execution_count": 59,
     "metadata": {},
     "output_type": "execute_result"
    }
   ],
   "source": [
    "y_pred"
   ]
  },
  {
   "cell_type": "code",
   "execution_count": 60,
   "metadata": {},
   "outputs": [
    {
     "data": {
      "text/plain": [
       "array([6.37064407e-05, 6.34692951e-05, 6.57332545e-05, 6.34775543e-05,\n",
       "       2.40518687e-08])"
      ]
     },
     "execution_count": 60,
     "metadata": {},
     "output_type": "execute_result"
    }
   ],
   "source": [
    "#inveres scaling\n",
    "Scaler.scale_"
   ]
  },
  {
   "cell_type": "code",
   "execution_count": 61,
   "metadata": {},
   "outputs": [
    {
     "data": {
      "text/plain": [
       "15697.000005212973"
      ]
     },
     "execution_count": 61,
     "metadata": {},
     "output_type": "execute_result"
    }
   ],
   "source": [
    "scale = 1/6.37064407e-05\n",
    "scale"
   ]
  },
  {
   "cell_type": "code",
   "execution_count": 62,
   "metadata": {},
   "outputs": [],
   "source": [
    "y_pred = y_pred*scale\n",
    "y_test = y_test*scale"
   ]
  },
  {
   "cell_type": "markdown",
   "metadata": {},
   "source": [
    "# Visualing the prediction with the accurate"
   ]
  },
  {
   "cell_type": "code",
   "execution_count": 63,
   "metadata": {},
   "outputs": [
    {
     "data": {
      "image/png": "[encoded data removed]",
      "text/plain": [
       "<Figure size 1008x360 with 1 Axes>"
      ]
     },
     "metadata": {
      "needs_background": "light"
     },
     "output_type": "display_data"
    }
   ],
   "source": [
    "plt.figure(figsize=(14,5))\n",
    "plt.plot(y_test,color='yellow',label='Real Infosys stock price')\n",
    "plt.plot(y_pred,color='blue',label='Predicted Infosys stock price')\n",
    "plt.title('INFOSYS Stock Price Prediction')\n",
    "plt.xlabel('Time')\n",
    "plt.ylabel('INFOSYS Stock Price')\n",
    "plt.legend()\n",
    "plt.show()"
   ]
  }
 ],
 "metadata": {
  "kernelspec": {
   "display_name": "Python 3",
   "language": "python",
   "name": "python3"
  },
  "language_info": {
   "codemirror_mode": {
    "name": "ipython",
    "version": 3
   },
   "file_extension": ".py",
   "mimetype": "text/x-python",
   "name": "python",
   "nbconvert_exporter": "python",
   "pygments_lexer": "ipython3",
   "version": "3.7.3"
  }
 },
 "nbformat": 4,
 "nbformat_minor": 4
}
